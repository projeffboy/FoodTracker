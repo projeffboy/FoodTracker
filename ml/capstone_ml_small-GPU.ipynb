{
 "cells": [
  {
   "cell_type": "markdown",
   "metadata": {
    "id": "gwwTpM8E9yYj"
   },
   "source": [
    "# To be loaded before in memory"
   ]
  },
  {
   "cell_type": "code",
   "execution_count": 1,
   "metadata": {
    "colab": {
     "base_uri": "https://localhost:8080/",
     "height": 66,
     "referenced_widgets": [
      "fab0a483ac1646d8841e6430d19f21ac",
      "a68c7a8ed2b04c389413f29074db74d3",
      "40c82290c1cb463dbeb42808f87fb0fd",
      "f859bfaf0e2b4bfca93a613e2c5909fe",
      "c29a248899104111aa68b9108bfdf713",
      "4468e7b82dc94304a11def8d7274e14c",
      "2c16874a8de94d7eaf7a42661594a443",
      "e2be920bfe7343acbe510591939db1cd",
      "6ba2ddf93119464ca20459ebdc99d800",
      "e191036e0e08444b94d5f73ac06ed177",
      "cdabdc52654d4f6e941e6fea68f6c6b1"
     ]
    },
    "id": "HkEpDbzb3_Nz",
    "outputId": "1484f895-a91c-4497-d4b8-25ab46d9dee1"
   },
   "outputs": [
    {
     "name": "stderr",
     "output_type": "stream",
     "text": [
      "C:\\Users\\Pana Demopoulos\\AppData\\Local\\Programs\\Python\\Python310\\lib\\site-packages\\tqdm\\auto.py:22: TqdmWarning: IProgress not found. Please update jupyter and ipywidgets. See https://ipywidgets.readthedocs.io/en/stable/user_install.html\n",
      "  from .autonotebook import tqdm as notebook_tqdm\n"
     ]
    }
   ],
   "source": [
    "import torch\n",
    "from PIL import Image\n",
    "import open_clip\n",
    "import pandas as pd\n",
    "import time\n",
    "# from google.colab import drive\n",
    "# drive.mount('/content/gdrive')\n",
    "\n",
    "device = torch.device(\"cuda\")\n",
    "\n",
    "model, _, preprocess = open_clip.create_model_and_transforms('ViT-H-14', pretrained='laion2b_s32b_b79k', precision=\"fp16\", device=device)"
   ]
  },
  {
   "cell_type": "code",
   "execution_count": 2,
   "metadata": {
    "id": "1aBsecJ54J1t"
   },
   "outputs": [],
   "source": [
    "textcat=torch.load(\"C:/Users/Pana Demopoulos/AppData/Local/Programs/Python/Python310/textcat0-377602.pt\").to(device)"
   ]
  },
  {
   "cell_type": "code",
   "execution_count": 3,
   "metadata": {
    "colab": {
     "base_uri": "https://localhost:8080/"
    },
    "id": "ftenP7pu6I5h",
    "outputId": "2aa09d2f-b0fe-4de0-8adf-4a427ae7444c"
   },
   "outputs": [
    {
     "name": "stdout",
     "output_type": "stream",
     "text": [
      "Hummus, commercial\n",
      "0.12499761581420898 sec\n"
     ]
    }
   ],
   "source": [
    "df = pd.read_csv('C:/Users/Pana Demopoulos/AppData/Local/Programs/Python/Python310/our_foods.csv', header=None, dtype = str)\n",
    "df2 = df.iloc[:,1]\n",
    "df1 = df.iloc[:,0]\n",
    "print(df2[0])\n",
    "dflist=df2.values.tolist()\n",
    "dflist_str = [str(x) for x in dflist]\n",
    "\n",
    "start=time.time()\n",
    "textcat /= textcat.norm(dim=-1, keepdim=True)\n",
    "end = time.time()\n",
    "print((end-start),\"sec\")"
   ]
  },
  {
   "cell_type": "markdown",
   "metadata": {
    "id": "SK9fTTr59_Ym"
   },
   "source": [
    "# Real time inference code"
   ]
  },
  {
   "cell_type": "code",
   "execution_count": 5,
   "metadata": {
    "colab": {
     "base_uri": "https://localhost:8080/"
    },
    "id": "52Pbsmm64XSU",
    "outputId": "9ec2e54f-bea6-43ad-9a76-c0549ecc1cb7"
   },
   "outputs": [
    {
     "name": "stdout",
     "output_type": "stream",
     "text": [
      "0.03099799156188965 sec\n",
      "0.0 sec\n",
      "Label probs:\n",
      " [[['861536', 'WHITE MEAT CHICKEN FRITTER IN A SWEET & SOUR GLAZE WITH VEGETABLES OVER RICE, SWEET & SOUR CHICKEN', '397.0', 'g'], 0.15592412650585175], [['679134', 'CHICKEN BREAST FRITTER IN A SWEET & SOUR GLAZE WITH VEGETABLES OVER RICE, SWEET & SOUR CHICKEN', '397.0', 'g'], 0.07840356975793839], [['986831', 'SWEET & SOUR CHICKEN BREADED CHICKEN WHITE MEAT AND VEGETABLES IN SWEET AND SOUR SAUCE WITH FRIED RICE, SWEET & SOUR CHICKEN', '312.0', 'g'], 0.06919091194868088], [['997049', 'WHITE MEAT CHICKEN, VEGETABLES & FRIED RICE WITH OYSTER FLAVORED SAUCE, CHICKEN FRIED RICE', '312.0', 'g'], 0.06919091194868088], [['649568', 'TENDER WHITE MEAT CHICKEN IN A TANGY SWEET & SOUR SAUCE WITH RICE, SWEET & SOUR CHICKEN', '283.0', 'g'], 0.04609108343720436], [['531861', 'SWEET & SOUR CHICKEN BREADED CHICKEN WHITE MEAT AND VEGETABLES IN SWEET AND SOUR SAUCE WITH FRIED RICE', '312.0', 'g'], 0.03479137644171715], [['643408', 'CHICKEN FLAVORED FRIED RICE, SEASONED CHICKEN, SCRAMBLED EGGS AND A MEDLEY OF VEGETABLES, CHICKEN', '168.0', 'g'], 0.03479137644171715], [['630466', 'GRILLED CHICKEN BREAST MEAT STIR FRIED WITH AN AUTHENTIC LONG GRAIN RICE AND AN EYE-CATCHING BLEND OF COLORFUL VEGETABLES ENTREE, CHICKEN FRIED RICE', '168.0', 'g'], 0.028843063861131668], [['628664', 'STIR FRY RICE & VEGETABLES WITH WHITE CHICKEN IN SAUCE', '227.0', 'g'], 0.026261907070875168], [['1084207', 'SWEET & SOUR CHICKEN BREADED ALL-WHITE MEAT CHICKEN IN TANGY SWEET & SOUR SAUCE WITH VEGETABLE FRIED RICE, SWEET & SOUR CHICKEN', '397.0', 'g'], 0.020452793687582016]]\n"
     ]
    }
   ],
   "source": [
    "image = preprocess(Image.open(\"C:/Users/Pana Demopoulos/AppData/Local/Programs/Python/Python310/junlin1.jpg\")).unsqueeze(0).to(device)\n",
    "\n",
    "def clippify(image):\n",
    "  with torch.no_grad(), torch.cuda.amp.autocast():\n",
    "    start=time.time()\n",
    "    image_features = model.encode_image(image)\n",
    "  ##    text_features = model.encode_text(text)\n",
    "    end = time.time()\n",
    "    print((end-start),\"sec\")\n",
    "    image_features /= image_features.norm(dim=-1, keepdim=True)\n",
    "    start=time.time()\n",
    "    text_probs = (100.0 * image_features @ textcat.T).softmax(dim=-1)\n",
    "    end = time.time()\n",
    "    print((end-start),\"sec\")\n",
    "\n",
    "  # print(image_features, image_features.size())\n",
    "  # print(textcat[100000:100100], textcat.size())\n",
    "  # print(text_probs, text_probs.size())\n",
    "  # print(text_probs[100000:100100])\n",
    "  probs_list  = text_probs[0].tolist()\n",
    "  # print(len(probs_list))\n",
    "  # print(probs_list[0])\n",
    "\n",
    "  biglist=[biglist[0] for biglist in sorted(enumerate(probs_list), key=lambda i:i[1], reverse=True)]\n",
    "  top_i_list=biglist[:10]\n",
    "  # print(top_i_list)\n",
    "  top10foods=[]\n",
    "  for x in top_i_list:\n",
    "    top10foods.append([(df.iloc[x,:]).tolist(), probs_list[x]])\n",
    "  print(\"Label probs:\\n\", top10foods)  # prints: [[1., 0., 0.]]\n",
    "  return top10foods\n",
    "\n",
    "output=clippify(image)"
   ]
  }
 ],
 "metadata": {
  "accelerator": "GPU",
  "colab": {
   "provenance": []
  },
  "gpuClass": "standard",
  "kernelspec": {
   "display_name": "Python 3 (ipykernel)",
   "language": "python",
   "name": "python3"
  },
  "language_info": {
   "codemirror_mode": {
    "name": "ipython",
    "version": 3
   },
   "file_extension": ".py",
   "mimetype": "text/x-python",
   "name": "python",
   "nbconvert_exporter": "python",
   "pygments_lexer": "ipython3",
   "version": "3.10.6"
  },
  "widgets": {
   "application/vnd.jupyter.widget-state+json": {
    "2c16874a8de94d7eaf7a42661594a443": {
     "model_module": "@jupyter-widgets/controls",
     "model_module_version": "1.5.0",
     "model_name": "DescriptionStyleModel",
     "state": {
      "_model_module": "@jupyter-widgets/controls",
      "_model_module_version": "1.5.0",
      "_model_name": "DescriptionStyleModel",
      "_view_count": null,
      "_view_module": "@jupyter-widgets/base",
      "_view_module_version": "1.2.0",
      "_view_name": "StyleView",
      "description_width": ""
     }
    },
    "40c82290c1cb463dbeb42808f87fb0fd": {
     "model_module": "@jupyter-widgets/controls",
     "model_module_version": "1.5.0",
     "model_name": "FloatProgressModel",
     "state": {
      "_dom_classes": [],
      "_model_module": "@jupyter-widgets/controls",
      "_model_module_version": "1.5.0",
      "_model_name": "FloatProgressModel",
      "_view_count": null,
      "_view_module": "@jupyter-widgets/controls",
      "_view_module_version": "1.5.0",
      "_view_name": "ProgressView",
      "bar_style": "success",
      "description": "",
      "description_tooltip": null,
      "layout": "IPY_MODEL_e2be920bfe7343acbe510591939db1cd",
      "max": 3944692325,
      "min": 0,
      "orientation": "horizontal",
      "style": "IPY_MODEL_6ba2ddf93119464ca20459ebdc99d800",
      "value": 3944692325
     }
    },
    "4468e7b82dc94304a11def8d7274e14c": {
     "model_module": "@jupyter-widgets/base",
     "model_module_version": "1.2.0",
     "model_name": "LayoutModel",
     "state": {
      "_model_module": "@jupyter-widgets/base",
      "_model_module_version": "1.2.0",
      "_model_name": "LayoutModel",
      "_view_count": null,
      "_view_module": "@jupyter-widgets/base",
      "_view_module_version": "1.2.0",
      "_view_name": "LayoutView",
      "align_content": null,
      "align_items": null,
      "align_self": null,
      "border": null,
      "bottom": null,
      "display": null,
      "flex": null,
      "flex_flow": null,
      "grid_area": null,
      "grid_auto_columns": null,
      "grid_auto_flow": null,
      "grid_auto_rows": null,
      "grid_column": null,
      "grid_gap": null,
      "grid_row": null,
      "grid_template_areas": null,
      "grid_template_columns": null,
      "grid_template_rows": null,
      "height": null,
      "justify_content": null,
      "justify_items": null,
      "left": null,
      "margin": null,
      "max_height": null,
      "max_width": null,
      "min_height": null,
      "min_width": null,
      "object_fit": null,
      "object_position": null,
      "order": null,
      "overflow": null,
      "overflow_x": null,
      "overflow_y": null,
      "padding": null,
      "right": null,
      "top": null,
      "visibility": null,
      "width": null
     }
    },
    "6ba2ddf93119464ca20459ebdc99d800": {
     "model_module": "@jupyter-widgets/controls",
     "model_module_version": "1.5.0",
     "model_name": "ProgressStyleModel",
     "state": {
      "_model_module": "@jupyter-widgets/controls",
      "_model_module_version": "1.5.0",
      "_model_name": "ProgressStyleModel",
      "_view_count": null,
      "_view_module": "@jupyter-widgets/base",
      "_view_module_version": "1.2.0",
      "_view_name": "StyleView",
      "bar_color": null,
      "description_width": ""
     }
    },
    "a68c7a8ed2b04c389413f29074db74d3": {
     "model_module": "@jupyter-widgets/controls",
     "model_module_version": "1.5.0",
     "model_name": "HTMLModel",
     "state": {
      "_dom_classes": [],
      "_model_module": "@jupyter-widgets/controls",
      "_model_module_version": "1.5.0",
      "_model_name": "HTMLModel",
      "_view_count": null,
      "_view_module": "@jupyter-widgets/controls",
      "_view_module_version": "1.5.0",
      "_view_name": "HTMLView",
      "description": "",
      "description_tooltip": null,
      "layout": "IPY_MODEL_4468e7b82dc94304a11def8d7274e14c",
      "placeholder": "​",
      "style": "IPY_MODEL_2c16874a8de94d7eaf7a42661594a443",
      "value": "Downloading: 100%"
     }
    },
    "c29a248899104111aa68b9108bfdf713": {
     "model_module": "@jupyter-widgets/base",
     "model_module_version": "1.2.0",
     "model_name": "LayoutModel",
     "state": {
      "_model_module": "@jupyter-widgets/base",
      "_model_module_version": "1.2.0",
      "_model_name": "LayoutModel",
      "_view_count": null,
      "_view_module": "@jupyter-widgets/base",
      "_view_module_version": "1.2.0",
      "_view_name": "LayoutView",
      "align_content": null,
      "align_items": null,
      "align_self": null,
      "border": null,
      "bottom": null,
      "display": null,
      "flex": null,
      "flex_flow": null,
      "grid_area": null,
      "grid_auto_columns": null,
      "grid_auto_flow": null,
      "grid_auto_rows": null,
      "grid_column": null,
      "grid_gap": null,
      "grid_row": null,
      "grid_template_areas": null,
      "grid_template_columns": null,
      "grid_template_rows": null,
      "height": null,
      "justify_content": null,
      "justify_items": null,
      "left": null,
      "margin": null,
      "max_height": null,
      "max_width": null,
      "min_height": null,
      "min_width": null,
      "object_fit": null,
      "object_position": null,
      "order": null,
      "overflow": null,
      "overflow_x": null,
      "overflow_y": null,
      "padding": null,
      "right": null,
      "top": null,
      "visibility": null,
      "width": null
     }
    },
    "cdabdc52654d4f6e941e6fea68f6c6b1": {
     "model_module": "@jupyter-widgets/controls",
     "model_module_version": "1.5.0",
     "model_name": "DescriptionStyleModel",
     "state": {
      "_model_module": "@jupyter-widgets/controls",
      "_model_module_version": "1.5.0",
      "_model_name": "DescriptionStyleModel",
      "_view_count": null,
      "_view_module": "@jupyter-widgets/base",
      "_view_module_version": "1.2.0",
      "_view_name": "StyleView",
      "description_width": ""
     }
    },
    "e191036e0e08444b94d5f73ac06ed177": {
     "model_module": "@jupyter-widgets/base",
     "model_module_version": "1.2.0",
     "model_name": "LayoutModel",
     "state": {
      "_model_module": "@jupyter-widgets/base",
      "_model_module_version": "1.2.0",
      "_model_name": "LayoutModel",
      "_view_count": null,
      "_view_module": "@jupyter-widgets/base",
      "_view_module_version": "1.2.0",
      "_view_name": "LayoutView",
      "align_content": null,
      "align_items": null,
      "align_self": null,
      "border": null,
      "bottom": null,
      "display": null,
      "flex": null,
      "flex_flow": null,
      "grid_area": null,
      "grid_auto_columns": null,
      "grid_auto_flow": null,
      "grid_auto_rows": null,
      "grid_column": null,
      "grid_gap": null,
      "grid_row": null,
      "grid_template_areas": null,
      "grid_template_columns": null,
      "grid_template_rows": null,
      "height": null,
      "justify_content": null,
      "justify_items": null,
      "left": null,
      "margin": null,
      "max_height": null,
      "max_width": null,
      "min_height": null,
      "min_width": null,
      "object_fit": null,
      "object_position": null,
      "order": null,
      "overflow": null,
      "overflow_x": null,
      "overflow_y": null,
      "padding": null,
      "right": null,
      "top": null,
      "visibility": null,
      "width": null
     }
    },
    "e2be920bfe7343acbe510591939db1cd": {
     "model_module": "@jupyter-widgets/base",
     "model_module_version": "1.2.0",
     "model_name": "LayoutModel",
     "state": {
      "_model_module": "@jupyter-widgets/base",
      "_model_module_version": "1.2.0",
      "_model_name": "LayoutModel",
      "_view_count": null,
      "_view_module": "@jupyter-widgets/base",
      "_view_module_version": "1.2.0",
      "_view_name": "LayoutView",
      "align_content": null,
      "align_items": null,
      "align_self": null,
      "border": null,
      "bottom": null,
      "display": null,
      "flex": null,
      "flex_flow": null,
      "grid_area": null,
      "grid_auto_columns": null,
      "grid_auto_flow": null,
      "grid_auto_rows": null,
      "grid_column": null,
      "grid_gap": null,
      "grid_row": null,
      "grid_template_areas": null,
      "grid_template_columns": null,
      "grid_template_rows": null,
      "height": null,
      "justify_content": null,
      "justify_items": null,
      "left": null,
      "margin": null,
      "max_height": null,
      "max_width": null,
      "min_height": null,
      "min_width": null,
      "object_fit": null,
      "object_position": null,
      "order": null,
      "overflow": null,
      "overflow_x": null,
      "overflow_y": null,
      "padding": null,
      "right": null,
      "top": null,
      "visibility": null,
      "width": null
     }
    },
    "f859bfaf0e2b4bfca93a613e2c5909fe": {
     "model_module": "@jupyter-widgets/controls",
     "model_module_version": "1.5.0",
     "model_name": "HTMLModel",
     "state": {
      "_dom_classes": [],
      "_model_module": "@jupyter-widgets/controls",
      "_model_module_version": "1.5.0",
      "_model_name": "HTMLModel",
      "_view_count": null,
      "_view_module": "@jupyter-widgets/controls",
      "_view_module_version": "1.5.0",
      "_view_name": "HTMLView",
      "description": "",
      "description_tooltip": null,
      "layout": "IPY_MODEL_e191036e0e08444b94d5f73ac06ed177",
      "placeholder": "​",
      "style": "IPY_MODEL_cdabdc52654d4f6e941e6fea68f6c6b1",
      "value": " 3.94G/3.94G [01:19&lt;00:00, 65.3MB/s]"
     }
    },
    "fab0a483ac1646d8841e6430d19f21ac": {
     "model_module": "@jupyter-widgets/controls",
     "model_module_version": "1.5.0",
     "model_name": "HBoxModel",
     "state": {
      "_dom_classes": [],
      "_model_module": "@jupyter-widgets/controls",
      "_model_module_version": "1.5.0",
      "_model_name": "HBoxModel",
      "_view_count": null,
      "_view_module": "@jupyter-widgets/controls",
      "_view_module_version": "1.5.0",
      "_view_name": "HBoxView",
      "box_style": "",
      "children": [
       "IPY_MODEL_a68c7a8ed2b04c389413f29074db74d3",
       "IPY_MODEL_40c82290c1cb463dbeb42808f87fb0fd",
       "IPY_MODEL_f859bfaf0e2b4bfca93a613e2c5909fe"
      ],
      "layout": "IPY_MODEL_c29a248899104111aa68b9108bfdf713"
     }
    }
   }
  }
 },
 "nbformat": 4,
 "nbformat_minor": 1
}
